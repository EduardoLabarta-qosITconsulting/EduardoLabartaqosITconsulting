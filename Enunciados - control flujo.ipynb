{
 "cells": [
  {
   "cell_type": "markdown",
   "metadata": {},
   "source": [
    "# Tema 03: Control de flujo (Enunciados)\n",
    "*Nota: Estos ejercicios son optativos para hacer al final de la unidad y están pensados para apoyar tu aprendizaje*."
   ]
  },
  {
   "cell_type": "markdown",
   "metadata": {},
   "source": [
    "**1) Realiza un programa que lea dos números por teclado y permita elegir entre 3 opciones en un menú:** \n",
    "* Mostrar una suma de los dos números\n",
    "* Mostrar una resta de los dos números (el primero menos el segundo)\n",
    "* Mostrar una multiplicación de los dos números\n",
    "* En caso de no introducir una opción válida, el programa informará de que no es correcta."
   ]
  },
  {
   "cell_type": "code",
   "execution_count": null,
   "metadata": {},
   "outputs": [],
   "source": [
    "num1 = float(input(\"Introduzca un numero\\n\"))\n",
    "num2 = float(input(\"Introduzca un segundo numero\\n\"))\n",
    "datoIncorrectos = True\n",
    "\n",
    "while datoIncorrectos:\n",
    "    print(\"\\n\")\n",
    "    print(\"Elija una opción del menu:\")\n",
    "    print(\"1.Mostrar la suma de los dos números\")\n",
    "    print(\"2.Mostrar la resta de los dos números(el primero menos el segundo)\")\n",
    "    print(\"3.Mostrar la multiplicación de los dos numeros\")\n",
    "    opcionMenu = str(input(\"Introduzca una opcion del menu\\n\"))\n",
    "    if((opcionMenu!= str (1)) and (opcionMenu != str (2)) and (opcionMenu != str(3))):\n",
    "        print(\"Introduzca una opción valida\")\n",
    "        print(\"====================\\n\")\n",
    "    else:\n",
    "        datoIncorrectos = False\n",
    "        \n",
    "if(opcionMenu==1):\n",
    "    print(f\"La suma de {num1} y de {num2} es {num1+num2}\" )\n",
    "elif(opcionMenu==2):\n",
    "    print(f\"La resta de {num1} y de {num2} es {num1-num2}\")\n",
    "else:\n",
    "    print(f\"La multiplicación de {num1} por {num2} es {num1*num2}\")\n",
    "    \n",
    "\n"
   ]
  },
  {
   "cell_type": "markdown",
   "metadata": {},
   "source": [
    "**2) Realiza un programa que lea un número impar por teclado. Si el usuario no introduce un número impar, debe repetise el proceso hasta que lo introduzca correctamente.**"
   ]
  },
  {
   "cell_type": "code",
   "execution_count": null,
   "metadata": {},
   "outputs": [],
   "source": [
    "\n",
    "\n",
    "NoImpar = True\n",
    "while NoImpar:\n",
    "    num = int(input(\"Introduzca un numero impar\\n\"))\n",
    "    if(num%2 !=0):\n",
    "        NoImpar = False\n",
    "    else:\n",
    "        print(\"El numero introducido no es impar, vuelva a intentarlo\")\n",
    "        print(\"\\n\")\n"
   ]
  },
  {
   "cell_type": "markdown",
   "metadata": {},
   "source": [
    "**3) Realiza un programa que sume todos los números enteros pares desde el 0 hasta el 100:**\n",
    "\n",
    "*Sugerencia: Puedes utilizar la funciones sum() y range() para hacerlo más fácil. El tercer parámetro en la función range(inicio, fin, salto) indica un salto de números, pruébalo.*"
   ]
  },
  {
   "cell_type": "code",
   "execution_count": null,
   "metadata": {},
   "outputs": [],
   "source": [
    "# Completa el ejercicio aquí\n",
    "print(sum(range(0,102,2)))"
   ]
  },
  {
   "cell_type": "markdown",
   "metadata": {},
   "source": [
    "**4) Realiza un programa que pida al usuario cuantos números quiere introducir. Luego lee todos los números y realiza una media aritmética:**\n"
   ]
  },
  {
   "cell_type": "code",
   "execution_count": null,
   "metadata": {},
   "outputs": [
    {
     "name": "stdout",
     "output_type": "stream",
     "text": [
      "\n",
      "\n",
      "La media total de sus numeros es 3.75\n"
     ]
    }
   ],
   "source": [
    "\n",
    "sumaTotal=0\n",
    "cantidadNumeros = int(input(\"Introduzca cuantos números quiere introducir\\n\"))\n",
    "print(\"\\n\")\n",
    "for x in range(0,cantidadNumeros):\n",
    "    sumaTotal += int(input(\"Introduzca un numero\\n\"))\n",
    "    \n",
    "print(f\"La media total de sus numeros es {sumaTotal/cantidadNumeros}\")\n",
    "\n"
   ]
  },
  {
   "cell_type": "markdown",
   "metadata": {},
   "source": [
    "**5) Realiza un programa que pida al usuario un número entero del 0 al 9, y que mientras el número no sea correcto se repita el proceso. Luego debe comprobar si el número se encuentra en la lista de números y notificarlo:**\n",
    "\n",
    "*Consejo: La sintaxis \"valor in lista\" permite comprobar fácilmente si un valor se encuentra en una lista (devuelve True o False)*"
   ]
  },
  {
   "cell_type": "code",
   "execution_count": null,
   "metadata": {},
   "outputs": [],
   "source": [
    "\n",
    "ListNum = [2,6,7,8]\n",
    "numeroIncorrecto = True\n",
    "numUsuario = 0;\n",
    "print(\"Introduce un numero del 0 al 9\\n\")\n",
    "\n",
    "while numeroIncorrecto:\n",
    "    numUsuario = int(input(\"Introduce un numero del 0 al 9\\n\"))\n",
    "    if(numUsuario in ListNum):\n",
    "        numeroIncorrecto = False\n",
    "        print(\"Has acertado el numero\")\n",
    "    else:\n",
    "        print(\"Numero incorrecto, vuelve a intentarlo\\n\")\n",
    "        print(\"\\n\")\n",
    "    "
   ]
  },
  {
   "cell_type": "code",
   "execution_count": null,
   "metadata": {},
   "outputs": [],
   "source": []
  },
  {
   "cell_type": "markdown",
   "metadata": {},
   "source": [
    "**6) Utilizando la función range() y la conversión a listas genera las siguientes listas dinámicamente:**\n",
    "* Todos los números del 0 al 10 [0, 1, 2, ..., 10]\n",
    "* Todos los números del -10 al 0 [-10, -9, -8, ..., 0]\n",
    "* Todos los números pares del 0 al 20 [0, 2, 4, ..., 20]\n",
    "* Todos los números impares entre -20 y 0 [-19, -17, -15, ..., -1]\n",
    "* Todos los números múltiples de 5 del 0 al 50 [0, 5, 10, ..., 50]\n",
    "\n",
    "*Pista: Utiliza el tercer parámetro de la función range(inicio, fin, salto).*"
   ]
  },
  {
   "cell_type": "code",
   "execution_count": null,
   "metadata": {},
   "outputs": [],
   "source": [
    "\n",
    "print(list(range(0,11)))\n",
    "print(list(range(-10,1)))\n",
    "print(list(range(0,22,2)))\n",
    "print(list(range(-21,0,2)))\n",
    "print(list(range(0,51,5)))\n",
    "\n",
    "\n",
    "\n",
    "\n"
   ]
  },
  {
   "cell_type": "code",
   "execution_count": null,
   "metadata": {},
   "outputs": [],
   "source": [
    "print(list(range(0,11)))#---Todos los números del 0 al 10\n",
    "print(list(range(-10,1,1)))#---Todos los números del -10 al 0\n",
    "print(list(range(0,21,2)))#---Todos los números pares del 0 al 20\n",
    "print(list(range(-19,1,2)))#---Todos los números impares entre -20 y 0\n",
    "print(list(range(0,51,5)))#---Todos los números múltiples de 5 del 0 al 50"
   ]
  },
  {
   "cell_type": "markdown",
   "metadata": {},
   "source": [
    "**7) Dadas dos listas, debes generar una tercera con todos los elementos que se repitan en ellas, pero no debe repetise ningún elemento en la nueva lista:**"
   ]
  },
  {
   "cell_type": "code",
   "execution_count": null,
   "metadata": {},
   "outputs": [],
   "source": [
    "\n",
    "List1= [3,5,3,9,11]\n",
    "List2= [1,3,4,4,11]\n",
    "\n",
    "List3= []\n",
    "\n",
    "\n",
    "for x in List1:\n",
    "    if not x in List3:\n",
    "     List3.append(x)\n",
    "\n",
    "for x in List2:\n",
    "    if not x in List3:\n",
    "     List3.append(x)  \n",
    "\n",
    "print(List3)"
   ]
  },
  {
   "cell_type": "code",
   "execution_count": null,
   "metadata": {},
   "outputs": [],
   "source": []
  }
 ],
 "metadata": {
  "anaconda-cloud": {},
  "kernelspec": {
   "display_name": "base",
   "language": "python",
   "name": "python3"
  },
  "language_info": {
   "codemirror_mode": {
    "name": "ipython",
    "version": 3
   },
   "file_extension": ".py",
   "mimetype": "text/x-python",
   "name": "python",
   "nbconvert_exporter": "python",
   "pygments_lexer": "ipython3",
   "version": "3.12.7"
  }
 },
 "nbformat": 4,
 "nbformat_minor": 4
}
