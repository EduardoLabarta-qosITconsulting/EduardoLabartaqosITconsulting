{
 "cells": [
  {
   "cell_type": "markdown",
   "metadata": {},
   "source": [
    "# Tema 06: Programación de funciones (Enunciados)\n",
    "*Nota: Estos ejercicios son optativos para hacer al final de la unidad y están pensados para apoyar tu aprendizaje*."
   ]
  },
  {
   "cell_type": "markdown",
   "metadata": {},
   "source": [
    "**1) Realiza una función llamada area_rectangulo() que devuelva el área del rectangulo a partir de una base y una altura. Calcula el área de un rectángulo de 15 de base y 10 de altura.**\n",
    "\n",
    "*Nota: El área de un rectángulo se obtiene al multiplicar la base por la altura.*"
   ]
  },
  {
   "cell_type": "code",
   "execution_count": 17,
   "metadata": {},
   "outputs": [
    {
     "name": "stdout",
     "output_type": "stream",
     "text": [
      "El area de su rectangulo es 16.0\n"
     ]
    }
   ],
   "source": [
    "# Completa el ejercicio aquí\n",
    "def area_rectangulo(base,altura):\n",
    "    area = base*altura\n",
    "    return area \n",
    " \n",
    " \n",
    " \n",
    " \n",
    "base = float(input(\"Introduzca la base del cuadrado\"))\n",
    "altura = float(input(\"Introduzca la altura del cuadrado\"))\n",
    "area = area_rectangulo(base,altura)\n",
    "print(f\"El area de su rectangulo es {area}\")"
   ]
  },
  {
   "cell_type": "markdown",
   "metadata": {},
   "source": [
    "**2) Realiza una función llamada area_circulo() que devuelva el área de un círculo a partir de un radio. Calcula el área de un círculo de 5 de radio: **\n",
    "\n",
    "Nota: El área de un círculo se obtiene al elevar el radio a dos y multiplicando el resultado por el número pi. Puedes utilizar el valor 3.14159 como pi o importarlo del módulo math:\n",
    "```python\n",
    "import math\n",
    "print(math.pi)\n",
    "> 3.1415...\n",
    "```"
   ]
  },
  {
   "cell_type": "code",
   "execution_count": 5,
   "metadata": {},
   "outputs": [
    {
     "name": "stdout",
     "output_type": "stream",
     "text": [
      "El area de tu circulo es 50.26548245743669\n"
     ]
    }
   ],
   "source": [
    "# Completa el ejercicio aquí\n",
    "import math\n",
    "def area_circulo(radioCirculo):\n",
    "    areaCirculo= (radioCirculo*radioCirculo)*math.pi\n",
    "    return areaCirculo\n",
    "\n",
    "radioCirculo = float(input(\"Introduzca el radio del circulo\"))\n",
    "areaCirculo = area_circulo(radioCirculo)\n",
    "print(f\"El area de tu circulo es {areaCirculo}\")"
   ]
  },
  {
   "cell_type": "markdown",
   "metadata": {},
   "source": [
    "**3) Realiza una función llamada relacion() que a partir de dos números cumpla lo siguiente**:\n",
    "\n",
    "* Si el primer número es mayor que el segundo, debe devolver 1.\n",
    "* Si el primer número es menor que el segundo, debe devolver -1.\n",
    "* Si ambos números son iguales, debe devolver un 0.\n",
    "\n",
    "** Comprueba la relación entre los números: '5 y 10', '10 y 5' y '5 y 5'**"
   ]
  },
  {
   "cell_type": "code",
   "execution_count": 5,
   "metadata": {},
   "outputs": [
    {
     "name": "stdout",
     "output_type": "stream",
     "text": [
      "0\n"
     ]
    }
   ],
   "source": [
    "# Completa el ejercicio aquí\n",
    "\n",
    "def relacion(num1,num2):\n",
    "    if(num1>num2):\n",
    "        return 1\n",
    "    elif (num1<num2):\n",
    "        return -1\n",
    "    else:\n",
    "        return 0 \n",
    "    \n",
    "num1= 4\n",
    "num2= 7\n",
    "\n",
    "resultadoRelacion = relacion(5,5) \n",
    "print(resultadoRelacion)\n",
    "\n",
    "\n",
    "    "
   ]
  },
  {
   "cell_type": "markdown",
   "metadata": {},
   "source": [
    "**4) Realiza una función llamada intermedio() que a partir de dos números, devuelva su punto intermedio:**\n",
    "\n",
    "*Nota: El número intermedio de dos números corresponde a la suma de los dos números dividida entre 2*\n",
    "\n",
    "** Comprueba el punto intermedio entre -12 y 24**"
   ]
  },
  {
   "cell_type": "code",
   "execution_count": 9,
   "metadata": {},
   "outputs": [
    {
     "name": "stdout",
     "output_type": "stream",
     "text": [
      "6.0\n"
     ]
    }
   ],
   "source": [
    "# Completa el ejercicio aquí\n",
    "\n",
    "def intermedio(num1,num2):\n",
    "    puntoMedio= (num1+num2)/2\n",
    "    return puntoMedio\n",
    "\n",
    "num1 = -12\n",
    "num2 = 24\n",
    "\n",
    "puntoIntermedio = intermedio(num1,num2)\n",
    "print(puntoIntermedio)\n"
   ]
  },
  {
   "cell_type": "markdown",
   "metadata": {},
   "source": [
    "**5) Realiza una función llamada recortar() que reciba tres parámetros. El primero es el número a recortar, el segundo es el límite inferior y el tercero el límite superior. La función tendrá que cumplir lo siguiente:**\n",
    "\n",
    "* Devolver el límite inferior si el número es menor que éste\n",
    "* Devolver el límite superior si el número es mayor que éste.\n",
    "* Devolver el número sin cambios si no se supera ningún límite.\n",
    "\n",
    "** Comprueba el resultado de recortar 15 entre los límites 0 y 10**"
   ]
  },
  {
   "cell_type": "code",
   "execution_count": 12,
   "metadata": {},
   "outputs": [
    {
     "name": "stdout",
     "output_type": "stream",
     "text": [
      "El resultado es 0\n"
     ]
    }
   ],
   "source": [
    "# Completa el ejercicio aquí\n",
    "\n",
    "def recortar(num,limitInf,limitSup):\n",
    "    if(limitInf>num):\n",
    "        return limitInf\n",
    "    elif(limitSup<num):\n",
    "        return limitSup\n",
    "    else:\n",
    "        return num\n",
    "\n",
    "limitInf = 0\n",
    "limitSup = 10\n",
    "num=15\n",
    "\n",
    "resultado = recortar(num,limitInf,limitSup)\n",
    "print(f\"El resultado es {resultado}\")\n"
   ]
  },
  {
   "cell_type": "markdown",
   "metadata": {},
   "source": [
    "**6) Realiza una función separar() que tome una lista de números enteros y devuelva dos listas ordenadas. La primera con los números pares, y la segunda con los números impares:**\n",
    "\n",
    "Por ejemplo: \n",
    "\n",
    "```python\n",
    "pares, impares = separar([6,5,2,1,7])\n",
    "print(pares)   # valdría [2, 6]\n",
    "print(impares)  # valdría [1, 5, 7]\n",
    "\n",
    "```\n",
    "\n",
    "*Nota: Para ordenar una lista automáticamente puedes usar el método .sort().*"
   ]
  },
  {
   "cell_type": "code",
   "execution_count": 16,
   "metadata": {},
   "outputs": [
    {
     "name": "stdout",
     "output_type": "stream",
     "text": [
      "[-12, 84, 20]\n",
      "[13, -33, 101, 9]\n"
     ]
    }
   ],
   "source": [
    "numeros = [-12, 84, 13, 20, -33, 101, 9]\n",
    "\n",
    "# Completa el ejercicio aquí\n",
    "\n",
    "pares =[]\n",
    "impares= []\n",
    "\n",
    "\n",
    "def separar(numeros):\n",
    "    for x in numeros:\n",
    "        if(x%2==0):\n",
    "            pares.append(x)\n",
    "        else:\n",
    "            impares.append(x)\n",
    "\n",
    "\n",
    "separar(numeros)\n",
    "print(pares)\n",
    "print(impares)\n",
    "\n",
    "\n",
    "\n",
    "\n",
    "\n"
   ]
  },
  {
   "cell_type": "code",
   "execution_count": null,
   "metadata": {},
   "outputs": [],
   "source": []
  }
 ],
 "metadata": {
  "anaconda-cloud": {},
  "kernelspec": {
   "display_name": "base",
   "language": "python",
   "name": "python3"
  },
  "language_info": {
   "codemirror_mode": {
    "name": "ipython",
    "version": 3
   },
   "file_extension": ".py",
   "mimetype": "text/x-python",
   "name": "python",
   "nbconvert_exporter": "python",
   "pygments_lexer": "ipython3",
   "version": "3.12.7"
  }
 },
 "nbformat": 4,
 "nbformat_minor": 1
}
